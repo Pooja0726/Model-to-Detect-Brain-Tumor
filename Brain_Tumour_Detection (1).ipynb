{
  "cells": [
    {
      "cell_type": "markdown",
      "source": [
        "**Brain Tumor Classification using PyTorch CNN**\n",
        "\n",
        "This project implements a Convolutional Neural Network (CNN) for brain tumor classification using PyTorch. The model uses the Brain Tumor Dataset from Kaggle to classify brain MRI images into 4 different categories of brain tumors.\n",
        "\n",
        "**📋 Table of Contents**\n",
        "\n",
        "\n",
        "1.   Overview\n",
        "2.   Model Architecture\n",
        "3.   Data Preprocessing\n",
        "4.   Training Process\n",
        "5.   Code Explanation\n",
        "6.   Results Visualization\n",
        "\n",
        "**🔍 Overview**\n",
        "\n",
        "This deep learning model uses a CNN architecture to classify brain MRI scans into 4 different tumor types. The project utilizes the Brain Tumor Dataset from Kaggle, which contains MRI images categorized into different brain tumor types. The dataset is accessed through Google Drive integration in Google Colab, and the model includes data augmentation techniques to improve generalization.\n",
        "\n",
        " **Dataset Information:**\n",
        "\n",
        " 1.  Source: Kaggle Brain Tumor Dataset\n",
        " 2.  Access Method: Google Drive mounted in Google Colab\n",
        " 3.  Image Type: Brain MRI scans\n",
        " 4.  Classes: 4 different brain tumor categories\n",
        " 5. Image Format: RGB images resized to 64x64 pixels\n",
        "\n"
      ],
      "metadata": {
        "id": "IOumeqiGS6Te"
      }
    },
    {
      "cell_type": "markdown",
      "source": [],
      "metadata": {
        "id": "ry-vq9ayUmu_"
      }
    },
    {
      "cell_type": "code",
      "execution_count": 1,
      "metadata": {
        "id": "LbS5je-I0xnA",
        "colab": {
          "base_uri": "https://localhost:8080/"
        },
        "outputId": "782ff4fa-428e-4e0c-b5e5-c85007e388f2"
      },
      "outputs": [
        {
          "output_type": "stream",
          "name": "stdout",
          "text": [
            "Mounted at /content/drive\n"
          ]
        }
      ],
      "source": [
        "from google.colab import drive\n",
        "import pandas as pd\n",
        "drive.mount('/content/drive')\n"
      ]
    },
    {
      "cell_type": "code",
      "execution_count": 2,
      "metadata": {
        "id": "eGCdJyuI9ZiV"
      },
      "outputs": [],
      "source": [
        "dataset_path = '/content/drive/MyDrive/Colab_Notebooks/Brain_Tumour'"
      ]
    },
    {
      "cell_type": "code",
      "execution_count": 4,
      "metadata": {
        "id": "_jhxeMGv-orP"
      },
      "outputs": [],
      "source": [
        "import torch\n",
        "from torch import nn, optim\n",
        "from torchvision import datasets, transforms\n",
        "from torch.utils.data import DataLoader"
      ]
    },
    {
      "cell_type": "code",
      "execution_count": 6,
      "metadata": {
        "colab": {
          "base_uri": "https://localhost:8080/"
        },
        "id": "7b3f9d43",
        "outputId": "26a302a9-cb06-4215-95dc-a44640b86ad5"
      },
      "outputs": [
        {
          "output_type": "stream",
          "name": "stdout",
          "text": [
            "Using device: cpu\n"
          ]
        }
      ],
      "source": [
        "# Determine the device to use\n",
        "device = torch.device('cuda' if torch.cuda.is_available() else 'cpu')\n",
        "print(f'Using device: {device}')"
      ]
    },
    {
      "cell_type": "markdown",
      "source": [
        "**Model Architecture**\n",
        "\n",
        "The CNN model consists of:\n",
        "\n",
        "Convolutional Layers:\n",
        "\n",
        "1. Conv2d(3, 32, 3, 1, 1) - First convolutional layer\n",
        "2. Conv2d(32, 64, 3, 1, 1) - Second convolutional layer\n",
        "3.  Conv2d(64, 128, 3, 1, 1) - Third convolutional layer\n",
        "\n",
        "Pooling and Activation:\n",
        "\n",
        "1. ReLU activation after each convolution\n",
        "2. MaxPool2d(2) after each ReLU for downsampling\n",
        "3. Dropout(0.5) for regularization\n",
        "\n",
        "Fully Connected Layers:\n",
        "\n",
        "1. Linear(12888, 256) - First FC layer (8192 → 256)\n",
        "2. Linear(256, 4) - Output layer for 4 classes"
      ],
      "metadata": {
        "id": "9orzg7TgWI4o"
      }
    },
    {
      "cell_type": "code",
      "execution_count": 7,
      "metadata": {
        "id": "E7pzHiMcAWFb"
      },
      "outputs": [],
      "source": [
        "model=nn.Sequential(\n",
        "    nn.Conv2d(3,32,3,1,1),nn.ReLU(),nn.MaxPool2d(2),\n",
        "    nn.Conv2d(32,64,3,1,1),nn.ReLU(),nn.MaxPool2d(2),\n",
        "    nn.Conv2d(64,128,3,1,1),nn.ReLU(),nn.MaxPool2d(2),\n",
        "    nn.Flatten(),\n",
        "    nn.Linear(128*8*8,256),nn.ReLU(),nn.Dropout(0.5),\n",
        "    nn.Linear(256,4),\n",
        ").to(device)"
      ]
    },
    {
      "cell_type": "code",
      "execution_count": 8,
      "metadata": {
        "id": "uIlmODTsB77i"
      },
      "outputs": [],
      "source": [
        "opt=optim.AdamW(model.parameters(),1e-4)\n",
        "loss_fn=nn.CrossEntropyLoss()\n"
      ]
    },
    {
      "cell_type": "code",
      "execution_count": 9,
      "metadata": {
        "id": "3fc7ab08"
      },
      "outputs": [],
      "source": [
        "train_tf = transforms.Compose([\n",
        "    transforms.Resize((64,64)),\n",
        "    transforms.RandomHorizontalFlip(),\n",
        "    transforms.RandomRotation(10),\n",
        "    transforms.ColorJitter(brightness=0.2, contrast=0.2, saturation=0.2, hue=0.1),\n",
        "    transforms.ToTensor(),\n",
        "    transforms.Normalize((0.5,0.5,0.5),(0.5,0.5,0.5))\n",
        "])\n",
        "\n",
        "test_tf = transforms.Compose([\n",
        "    transforms.Resize((64,64)),\n",
        "    transforms.ToTensor(),\n",
        "    transforms.Normalize((0.5,0.5,0.5),(0.5,0.5,0.5))\n",
        "])\n",
        "\n",
        "train_dl = DataLoader(\n",
        "    datasets.ImageFolder('/content/drive/MyDrive/Colab_Notebooks/Brain_Tumour/Training', train_tf),\n",
        "    batch_size=16,\n",
        "    shuffle=True,\n",
        "    num_workers=4,\n",
        "    pin_memory=True\n",
        ")\n",
        "\n",
        "test_dl = DataLoader(\n",
        "    datasets.ImageFolder('/content/drive/MyDrive/Colab_Notebooks/Brain_Tumour/Testing', test_tf),\n",
        "    batch_size=16,\n",
        "    shuffle=False,\n",
        "    num_workers=4,\n",
        "    pin_memory=True\n",
        ")"
      ]
    },
    {
      "cell_type": "markdown",
      "source": [
        "**🎯 Training Process**\n",
        "\n",
        "1. Optimizer: AdamW with learning rate 1e-4\n",
        "2. Loss Function: CrossEntropyLoss\n",
        "3. Batch Size: 16\n",
        "5. Epochs: 25\n",
        "6. Device: CUDA if available, otherwise CPU\n",
        "\n",
        "**Training Loop:**\n",
        "\n",
        "1. Forward pass through the model\n",
        "2. Calculate loss using CrossEntropyLoss\n",
        "3. Backpropagation\n",
        "4. Parameter update using AdamW optimizer\n",
        "5. Track running loss per epoch"
      ],
      "metadata": {
        "id": "EAGbnMmpXoGB"
      }
    },
    {
      "cell_type": "code",
      "execution_count": 10,
      "metadata": {
        "colab": {
          "base_uri": "https://localhost:8080/"
        },
        "id": "OtBbbg-YRRxz",
        "outputId": "bfa7cc87-b190-45b9-d667-8bf2557b4011"
      },
      "outputs": [
        {
          "output_type": "stream",
          "name": "stdout",
          "text": [
            "Epoch: 1, Loss: 0.9959937930107117\n",
            "Epoch: 2, Loss: 0.7217870950698853\n",
            "Epoch: 3, Loss: 0.6260362267494202\n",
            "Epoch: 4, Loss: 0.5746145844459534\n",
            "Epoch: 5, Loss: 0.5297187566757202\n",
            "Epoch: 6, Loss: 0.4912453889846802\n",
            "Epoch: 7, Loss: 0.4571226239204407\n",
            "Epoch: 8, Loss: 0.4300522208213806\n",
            "Epoch: 9, Loss: 0.42524391412734985\n",
            "Epoch: 10, Loss: 0.38967424631118774\n",
            "Epoch: 11, Loss: 0.3643592894077301\n",
            "Epoch: 12, Loss: 0.3497908115386963\n",
            "Epoch: 13, Loss: 0.32805636525154114\n",
            "Epoch: 14, Loss: 0.31474682688713074\n",
            "Epoch: 15, Loss: 0.29749810695648193\n",
            "Epoch: 16, Loss: 0.27614155411720276\n",
            "Epoch: 17, Loss: 0.2657620310783386\n",
            "Epoch: 18, Loss: 0.2627010643482208\n",
            "Epoch: 19, Loss: 0.2491767853498459\n",
            "Epoch: 20, Loss: 0.2258368581533432\n",
            "Epoch: 21, Loss: 0.22293080389499664\n",
            "Epoch: 22, Loss: 0.21066991984844208\n",
            "Epoch: 23, Loss: 0.1978953629732132\n",
            "Epoch: 24, Loss: 0.202418714761734\n",
            "Epoch: 25, Loss: 0.18692319095134735\n"
          ]
        }
      ],
      "source": [
        "model.train()\n",
        "for epoch in range(25):\n",
        "  running_loss = 0\n",
        "  for x, y in train_dl:\n",
        "    opt.zero_grad()\n",
        "    x, y = x.to(device), y.to(device)\n",
        "    pred = model(x)\n",
        "    loss = loss_fn(pred, y)\n",
        "    running_loss += loss\n",
        "    loss.backward()\n",
        "    opt.step()\n",
        "  print(f'Epoch: {epoch+1}, Loss: {running_loss/len(train_dl)}')"
      ]
    },
    {
      "cell_type": "code",
      "execution_count": 11,
      "metadata": {
        "colab": {
          "base_uri": "https://localhost:8080/"
        },
        "id": "9p7Z5Dt3WyMh",
        "outputId": "30360b9e-e198-49d7-c638-8e73cbb8c6ef"
      },
      "outputs": [
        {
          "output_type": "stream",
          "name": "stdout",
          "text": [
            "Test Loss: 0.23711849108724098, Accuracy: 90.77040427154844\n"
          ]
        }
      ],
      "source": [
        "model.eval()\n",
        "test_loss, correct = 0.0, 0\n",
        "with torch.no_grad():\n",
        "  for x, y in test_dl:\n",
        "    x, y = x.to(device), y.to(device)\n",
        "    logits = model(x)\n",
        "    test_loss += loss_fn(logits, y).item() * y.size(0)\n",
        "    preds = logits.argmax(dim=1)\n",
        "    correct += (preds == y).sum().item()\n",
        "test_loss /= len(test_dl.dataset)\n",
        "accuracy = 100.0 * correct / len(test_dl.dataset)\n",
        "print(f'Test Loss: {test_loss}, Accuracy: {accuracy}')"
      ]
    },
    {
      "cell_type": "markdown",
      "source": [
        "**📥 Dataset Requirements**\n",
        "\n",
        "1. Go to [Brain_Tumor_Dataset](https://https://www.kaggle.com/datasets/masoudnickparvar/brain-tumor-mri-dataset)\n",
        "2. Download the dataset (requires Kaggle account)\n",
        "\n",
        "**Upload to Google Drive:**\n",
        "\n",
        "1. Extract the downloaded dataset\n",
        "2. Upload to your Google Drive following the folder structure mentioned above\n",
        "3. Ensure the path matches: /content/drive/MyDrive/Colab_Notebooks/Brain_Tumour/\n",
        "\n"
      ],
      "metadata": {
        "id": "_vqv4e3rYhDu"
      }
    },
    {
      "cell_type": "code",
      "source": [
        "import random\n",
        "import matplotlib.pyplot as plt\n",
        "from torchvision.transforms.functional import to_pil_image\n",
        "model.eval()\n",
        "idx=random.randrange(len(test_dl.dataset))\n",
        "img, label=test_dl.dataset[idx]\n",
        "unnorm=img*0.5+0.5\n",
        "plt.imshow(to_pil_image(unnorm))\n",
        "plt.axis('off')\n",
        "plt.title('Sample from test set')\n",
        "plt.show()\n",
        "\n",
        "with torch.no_grad():\n",
        "  logits=model(img.unsqueeze(0).to(device))\n",
        "  pred=logits.argmax(dim=1).item()\n",
        "  print(f'Predicted label: {pred}, Actual label: {label}')"
      ],
      "metadata": {
        "colab": {
          "base_uri": "https://localhost:8080/",
          "height": 445
        },
        "id": "AUKK01-bPCur",
        "outputId": "559a1874-6a61-4386-e9a1-6b8af65ec912"
      },
      "execution_count": 12,
      "outputs": [
        {
          "output_type": "display_data",
          "data": {
            "text/plain": [
              "<Figure size 640x480 with 1 Axes>"
            ],
            "image/png": "[encoded data removed]"
          },
          "metadata": {}
        },
        {
          "output_type": "stream",
          "name": "stdout",
          "text": [
            "Predicted label: 1, Actual label: 1\n"
          ]
        }
      ]
    }
  ],
  "metadata": {
    "colab": {
      "provenance": [],
      "gpuType": "V28"
    },
    "kernelspec": {
      "display_name": "Python 3",
      "name": "python3"
    },
    "language_info": {
      "name": "python"
    },
    "accelerator": "TPU"
  },
  "nbformat": 4,
  "nbformat_minor": 0
}