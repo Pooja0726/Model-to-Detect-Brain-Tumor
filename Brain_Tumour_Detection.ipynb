{
  "cells": [
    {
      "cell_type": "code",
      "execution_count": 1,
      "metadata": {
        "id": "LbS5je-I0xnA",
        "colab": {
          "base_uri": "https://localhost:8080/"
        },
        "outputId": "b1561629-ad11-48de-d879-ef4cf84c908d"
      },
      "outputs": [
        {
          "output_type": "stream",
          "name": "stdout",
          "text": [
            "Drive already mounted at /content/drive; to attempt to forcibly remount, call drive.mount(\"/content/drive\", force_remount=True).\n"
          ]
        }
      ],
      "source": [
        "from google.colab import drive\n",
        "import pandas as pd\n",
        "drive.mount('/content/drive')\n"
      ]
    },
    {
      "cell_type": "code",
      "execution_count": 2,
      "metadata": {
        "id": "eGCdJyuI9ZiV"
      },
      "outputs": [],
      "source": [
        "dataset_path = '/content/drive/MyDrive/Colab_Notebooks/Brain_Tumour'"
      ]
    },
    {
      "cell_type": "code",
      "execution_count": 3,
      "metadata": {
        "id": "_jhxeMGv-orP"
      },
      "outputs": [],
      "source": [
        "import torch\n",
        "from torch import nn, optim\n",
        "from torchvision import datasets, transforms\n",
        "from torch.utils.data import DataLoader"
      ]
    },
    {
      "cell_type": "code",
      "execution_count": 4,
      "metadata": {
        "colab": {
          "base_uri": "https://localhost:8080/"
        },
        "id": "7b3f9d43",
        "outputId": "b7ce0598-0080-4d7c-b889-522964e380d3"
      },
      "outputs": [
        {
          "output_type": "stream",
          "name": "stdout",
          "text": [
            "Using device: cpu\n"
          ]
        }
      ],
      "source": [
        "# Determine the device to use\n",
        "device = torch.device('cuda' if torch.cuda.is_available() else 'cpu')\n",
        "print(f'Using device: {device}')"
      ]
    },
    {
      "cell_type": "code",
      "execution_count": 5,
      "metadata": {
        "id": "E7pzHiMcAWFb"
      },
      "outputs": [],
      "source": [
        "model=nn.Sequential(\n",
        "    nn.Conv2d(3,32,3,1,1),nn.ReLU(),nn.MaxPool2d(2),\n",
        "    nn.Conv2d(32,64,3,1,1),nn.ReLU(),nn.MaxPool2d(2),\n",
        "    nn.Conv2d(64,128,3,1,1),nn.ReLU(),nn.MaxPool2d(2),\n",
        "    nn.Flatten(),\n",
        "    nn.Linear(128*8*8,256),nn.ReLU(),nn.Dropout(0.5),\n",
        "    nn.Linear(256,4),\n",
        ").to(device)"
      ]
    },
    {
      "cell_type": "code",
      "execution_count": 10,
      "metadata": {
        "id": "uIlmODTsB77i"
      },
      "outputs": [],
      "source": [
        "opt=optim.AdamW(model.parameters(),1e-4)\n",
        "loss_fn=nn.CrossEntropyLoss()\n"
      ]
    },
    {
      "cell_type": "code",
      "execution_count": 11,
      "metadata": {
        "id": "3fc7ab08"
      },
      "outputs": [],
      "source": [
        "train_tf = transforms.Compose([\n",
        "    transforms.Resize((64,64)),\n",
        "    transforms.RandomHorizontalFlip(),\n",
        "    transforms.RandomRotation(10),\n",
        "    transforms.ColorJitter(brightness=0.2, contrast=0.2, saturation=0.2, hue=0.1),\n",
        "    transforms.ToTensor(),\n",
        "    transforms.Normalize((0.5,0.5,0.5),(0.5,0.5,0.5))\n",
        "])\n",
        "\n",
        "test_tf = transforms.Compose([\n",
        "    transforms.Resize((64,64)),\n",
        "    transforms.ToTensor(),\n",
        "    transforms.Normalize((0.5,0.5,0.5),(0.5,0.5,0.5))\n",
        "])\n",
        "\n",
        "train_dl = DataLoader(\n",
        "    datasets.ImageFolder('/content/drive/MyDrive/Colab_Notebooks/Brain_Tumour/Training', train_tf),\n",
        "    batch_size=16,\n",
        "    shuffle=True,\n",
        "    num_workers=4,\n",
        "    pin_memory=True\n",
        ")\n",
        "\n",
        "test_dl = DataLoader(\n",
        "    datasets.ImageFolder('/content/drive/MyDrive/Colab_Notebooks/Brain_Tumour/Testing', test_tf),\n",
        "    batch_size=16,\n",
        "    shuffle=False,\n",
        "    num_workers=4,\n",
        "    pin_memory=True\n",
        ")"
      ]
    },
    {
      "cell_type": "code",
      "execution_count": 13,
      "metadata": {
        "colab": {
          "base_uri": "https://localhost:8080/"
        },
        "id": "OtBbbg-YRRxz",
        "outputId": "e2df65cd-d275-4f39-da2f-b7a1e79b31c4"
      },
      "outputs": [
        {
          "metadata": {
            "tags": null
          },
          "name": "stderr",
          "output_type": "stream",
          "text": [
            "/usr/local/lib/python3.11/dist-packages/torch/utils/data/dataloader.py:624: UserWarning: This DataLoader will create 4 worker processes in total. Our suggested max number of worker in current system is 2, which is smaller than what this DataLoader is going to create. Please be aware that excessive worker creation might get DataLoader running slow or even freeze, lower the worker number to avoid potential slowness/freeze if necessary.\n",
            "  warnings.warn(\n"
          ]
        },
        {
          "output_type": "stream",
          "name": "stdout",
          "text": [
            "Epoch: 1, Loss: 0.3280630111694336\n",
            "Epoch: 2, Loss: 0.30390045046806335\n",
            "Epoch: 3, Loss: 0.2954878807067871\n",
            "Epoch: 4, Loss: 0.2695012092590332\n",
            "Epoch: 5, Loss: 0.2510611116886139\n",
            "Epoch: 6, Loss: 0.24203245341777802\n",
            "Epoch: 7, Loss: 0.23104606568813324\n",
            "Epoch: 8, Loss: 0.22158779203891754\n",
            "Epoch: 9, Loss: 0.20942498743534088\n",
            "Epoch: 10, Loss: 0.20054475963115692\n",
            "Epoch: 11, Loss: 0.1812940239906311\n",
            "Epoch: 12, Loss: 0.17295196652412415\n",
            "Epoch: 13, Loss: 0.1650196760892868\n",
            "Epoch: 14, Loss: 0.15515819191932678\n",
            "Epoch: 15, Loss: 0.14806294441223145\n",
            "Epoch: 16, Loss: 0.1396835446357727\n",
            "Epoch: 17, Loss: 0.13553592562675476\n",
            "Epoch: 18, Loss: 0.12668269872665405\n",
            "Epoch: 19, Loss: 0.12150594592094421\n",
            "Epoch: 20, Loss: 0.1152159571647644\n",
            "Epoch: 21, Loss: 0.10947094112634659\n",
            "Epoch: 22, Loss: 0.10572738945484161\n",
            "Epoch: 23, Loss: 0.11149405688047409\n",
            "Epoch: 24, Loss: 0.08890385925769806\n",
            "Epoch: 25, Loss: 0.09511325508356094\n"
          ]
        }
      ],
      "source": [
        "model.train()\n",
        "for epoch in range(25):\n",
        "  running_loss = 0\n",
        "  for x, y in train_dl:\n",
        "    opt.zero_grad()\n",
        "    x, y = x.to(device), y.to(device)\n",
        "    pred = model(x)\n",
        "    loss = loss_fn(pred, y)\n",
        "    running_loss += loss\n",
        "    loss.backward()\n",
        "    opt.step()\n",
        "  print(f'Epoch: {epoch+1}, Loss: {running_loss/len(train_dl)}')"
      ]
    },
    {
      "cell_type": "code",
      "execution_count": 14,
      "metadata": {
        "colab": {
          "base_uri": "https://localhost:8080/"
        },
        "id": "9p7Z5Dt3WyMh",
        "outputId": "131cfed0-64aa-42d7-88ff-7f59ad337ac4"
      },
      "outputs": [
        {
          "output_type": "stream",
          "name": "stdout",
          "text": [
            "Test Loss: 0.08582071004576433, Accuracy: 97.55911517925247\n"
          ]
        }
      ],
      "source": [
        "model.eval()\n",
        "test_loss, correct = 0.0, 0\n",
        "with torch.no_grad():\n",
        "  for x, y in test_dl:\n",
        "    x, y = x.to(device), y.to(device)\n",
        "    logits = model(x)\n",
        "    test_loss += loss_fn(logits, y).item() * y.size(0)\n",
        "    preds = logits.argmax(dim=1)\n",
        "    correct += (preds == y).sum().item()\n",
        "test_loss /= len(test_dl.dataset)\n",
        "accuracy = 100.0 * correct / len(test_dl.dataset)\n",
        "print(f'Test Loss: {test_loss}, Accuracy: {accuracy}')"
      ]
    },
    {
      "cell_type": "code",
      "source": [
        "import random\n",
        "import matplotlib.pyplot as plt\n",
        "from torchvision.transforms.functional import to_pil_image\n",
        "model.eval()\n",
        "idx=random.randrange(len(test_dl.dataset))\n",
        "img, label=test_dl.dataset[idx]\n",
        "unnorm=img*0.5+0.5\n",
        "plt.imshow(to_pil_image(unnorm))\n",
        "plt.axis('off')\n",
        "plt.title('Sample from test set')\n",
        "plt.show()\n",
        "\n",
        "with torch.no_grad():\n",
        "  logits=model(img.unsqueeze(0).to(device))\n",
        "  pred=logits.argmax(dim=1).item()\n",
        "  print(f'Predicted label: {pred}, Actual label: {label}')"
      ],
      "metadata": {
        "colab": {
          "base_uri": "https://localhost:8080/",
          "height": 445
        },
        "id": "AUKK01-bPCur",
        "outputId": "51adf55d-aece-4dd6-9cfa-1356b94e1dd8"
      },
      "execution_count": 15,
      "outputs": [
        {
          "output_type": "display_data",
          "data": {
            "text/plain": [
              "<Figure size 640x480 with 1 Axes>"
            ],
            "image/png": "[encoded data removed]"
          },
          "metadata": {}
        },
        {
          "output_type": "stream",
          "name": "stdout",
          "text": [
            "Predicted label: 1, Actual label: 1\n"
          ]
        }
      ]
    }
  ],
  "metadata": {
    "colab": {
      "provenance": []
    },
    "kernelspec": {
      "display_name": "Python 3",
      "name": "python3"
    },
    "language_info": {
      "name": "python"
    }
  },
  "nbformat": 4,
  "nbformat_minor": 0
}